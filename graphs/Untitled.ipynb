{
 "cells": [
  {
   "cell_type": "code",
   "execution_count": null,
   "metadata": {
    "collapsed": true
   },
   "outputs": [],
   "source": [
    "import numpy as np\n",
    "import pylab as pl\n",
    "\n",
    "data=np.genfromtxt('Spikes.txt')\n",
    "select = np.array ([d for d in data if d [1] < 30])\n",
    "data1=select.transpose()\n",
    "pl.scatter(0.1*data1[0], data1[1], alpha = 0.8, edgecolors='none');\n",
    "pl.show();\n",
    "\n",
    "n, bins, patches = pl.hist (0.1*data1[0], 50, normed = 0, alpha = 0.75)\n",
    "pl.show();"
   ]
  }
 ],
 "metadata": {
  "kernelspec": {
   "display_name": "Python 3",
   "language": "python",
   "name": "python3"
  },
  "language_info": {
   "codemirror_mode": {
    "name": "ipython",
    "version": 3
   },
   "file_extension": ".py",
   "mimetype": "text/x-python",
   "name": "python",
   "nbconvert_exporter": "python",
   "pygments_lexer": "ipython3",
   "version": "3.6.3"
  }
 },
 "nbformat": 4,
 "nbformat_minor": 2
}
